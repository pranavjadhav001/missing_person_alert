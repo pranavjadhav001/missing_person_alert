{
 "cells": [
  {
   "cell_type": "code",
   "execution_count": 1,
   "metadata": {},
   "outputs": [],
   "source": [
    "import numpy as np\n",
    "import cv2\n",
    "from tkinter import messagebox\n",
    "import time\n",
    "import threading"
   ]
  },
  {
   "cell_type": "code",
   "execution_count": 2,
   "metadata": {},
   "outputs": [],
   "source": [
    "class Inception:\n",
    "    def __init__(self):\n",
    "        self.first_time = True\n",
    "        self.start_time = 0\n",
    "        self.new_time = 0\n",
    "        self.missing_time = 10\n",
    "    def begin_clock(self,new_time):\n",
    "        self.new_time = new_time\n",
    "        if self.first_time:\n",
    "            self.start_time = time.time()\n",
    "            self.diff = self.start_time - self.new_time\n",
    "            self.first_time = False\n",
    "        else:\n",
    "            self.diff = self.new_time - self.start_time\n",
    "\n",
    "        if self.diff > self.missing_time:\n",
    "            self.notify()\n",
    "            \n",
    "    def notify(self):\n",
    "        print(\"Person is missing for more than 10 sec\")\n",
    "\n",
    "    def reset_time(self):\n",
    "        self.first_time = True\n",
    "        self.start_time = 0\n",
    "        self.new_time = 0"
   ]
  },
  {
   "cell_type": "code",
   "execution_count": 3,
   "metadata": {},
   "outputs": [],
   "source": [
    "face_cascade = cv2.CascadeClassifier('haarcascade_frontalface_default.xml')\n"
   ]
  },
  {
   "cell_type": "code",
   "execution_count": 5,
   "metadata": {},
   "outputs": [
    {
     "name": "stdout",
     "output_type": "stream",
     "text": [
      "Person is missing for more than 10 sec\n",
      "Person is missing for more than 10 sec\n",
      "Person is missing for more than 10 sec\n",
      "Person is missing for more than 10 sec\n",
      "Person is missing for more than 10 sec\n",
      "Person is missing for more than 10 sec\n",
      "Person is missing for more than 10 sec\n",
      "Person is missing for more than 10 sec\n",
      "Person is missing for more than 10 sec\n",
      "Person is missing for more than 10 sec\n",
      "Person is missing for more than 10 sec\n",
      "Person is missing for more than 10 sec\n",
      "Person is missing for more than 10 sec\n",
      "Person is missing for more than 10 sec\n",
      "Person is missing for more than 10 sec\n",
      "Person is missing for more than 10 sec\n",
      "Person is missing for more than 10 sec\n",
      "Person is missing for more than 10 sec\n",
      "Person is missing for more than 10 sec\n",
      "Person is missing for more than 10 sec\n",
      "Person is missing for more than 10 sec\n",
      "Person is missing for more than 10 sec\n",
      "Person is missing for more than 10 sec\n",
      "Person is missing for more than 10 sec\n",
      "Person is missing for more than 10 sec\n",
      "Person is missing for more than 10 sec\n",
      "Person is missing for more than 10 sec\n",
      "Person is missing for more than 10 sec\n"
     ]
    }
   ],
   "source": [
    "cap = cv2.VideoCapture(0)\n",
    "lanaya = Inception()\n",
    "while True:\n",
    "        ret, img = cap.read()\n",
    "        gray = cv2.cvtColor(img, cv2.COLOR_BGR2GRAY)\n",
    "        faces = face_cascade.detectMultiScale(gray, 1.3, 5)\n",
    "        if len(faces) == 0:\n",
    "            current_time = time.time()\n",
    "            lanaya.begin_clock(current_time)\n",
    "        else:\n",
    "            lanaya.reset_time()\n",
    "            \n",
    "        for (x,y,w,h) in faces:\n",
    "            cv2.rectangle(img,(x,y),(x+w,y+h),(255,0,0),2)\n",
    "            roi_gray = gray[y:y+h, x:x+w]\n",
    "            roi_color = img[y:y+h, x:x+w]\n",
    "        cv2.imshow('img',img)\n",
    "        \n",
    "        if cv2.waitKey(1) & 0xFF == ord('q'):\n",
    "            break\n",
    "cap.release()\n",
    "cv2.destroyAllWindows()        "
   ]
  },
  {
   "cell_type": "code",
   "execution_count": null,
   "metadata": {},
   "outputs": [],
   "source": []
  }
 ],
 "metadata": {
  "kernelspec": {
   "display_name": "Python 3",
   "language": "python",
   "name": "python3"
  },
  "language_info": {
   "codemirror_mode": {
    "name": "ipython",
    "version": 3
   },
   "file_extension": ".py",
   "mimetype": "text/x-python",
   "name": "python",
   "nbconvert_exporter": "python",
   "pygments_lexer": "ipython3",
   "version": "3.6.1"
  }
 },
 "nbformat": 4,
 "nbformat_minor": 2
}
