{
 "cells": [
  {
   "cell_type": "code",
   "execution_count": 7,
   "metadata": {},
   "outputs": [],
   "source": [
    "import numpy as np\n",
    "import cv2\n",
    "from tkinter import messagebox\n",
    "import time\n",
    "import threading"
   ]
  },
  {
   "cell_type": "code",
   "execution_count": 8,
   "metadata": {},
   "outputs": [],
   "source": [
    "#Use different cascade classifiers like cat, upper body,full body .Here i have used just face classifier"
   ]
  },
  {
   "cell_type": "code",
   "execution_count": 9,
   "metadata": {},
   "outputs": [],
   "source": [
    "face_cascade = cv2.CascadeClassifier('haarcascade_frontalface_default.xml')\n",
    "face_list=[]\n"
   ]
  },
  {
   "cell_type": "code",
   "execution_count": 13,
   "metadata": {},
   "outputs": [],
   "source": [
    "def beginprocess():\n",
    "    cap = cv2.VideoCapture(0)\n",
    "    while True:\n",
    "        ret, img = cap.read()\n",
    "        gray = cv2.cvtColor(img, cv2.COLOR_BGR2GRAY)\n",
    "        faces = face_cascade.detectMultiScale(gray, 1.3, 5)\n",
    "        \n",
    "            \n",
    "        missing_time=50    \n",
    "        face_list.append(len(faces))\n",
    "        total = 0\n",
    "        \n",
    "        for (x,y,w,h) in faces:\n",
    "            cv2.rectangle(img,(x,y),(x+w,y+h),(255,0,0),2)\n",
    "            roi_gray = gray[y:y+h, x:x+w]\n",
    "            roi_color = img[y:y+h, x:x+w]\n",
    "        cv2.imshow('img',img)\n",
    "        for i in face_list[-(missing_time):]:\n",
    "            total += i\n",
    "        if total == 0 and len(face_list)>10:\n",
    "            print(\"Missing\")\n",
    "        if cv2.waitKey(1) & 0xFF == ord('q'):\n",
    "            break\n",
    "    cap.release()\n",
    "    cv2.destroyAllWindows()        "
   ]
  },
  {
   "cell_type": "code",
   "execution_count": 11,
   "metadata": {},
   "outputs": [],
   "source": [
    "#If a person is missing in front of the camera for more than 2s then the program will alert the user ,the person is missing.\n",
    "#To increase the missing time just increase missing time "
   ]
  },
  {
   "cell_type": "code",
   "execution_count": 12,
   "metadata": {},
   "outputs": [
    {
     "name": "stdout",
     "output_type": "stream",
     "text": [
      "Missing\n",
      "Missing\n",
      "Missing\n",
      "Missing\n",
      "Missing\n",
      "Missing\n",
      "Missing\n",
      "Missing\n",
      "Missing\n",
      "Missing\n",
      "Missing\n",
      "Missing\n",
      "Missing\n",
      "Missing\n",
      "Missing\n",
      "Missing\n",
      "Missing\n",
      "Missing\n",
      "Missing\n",
      "Missing\n",
      "Missing\n",
      "Missing\n",
      "Missing\n",
      "Missing\n",
      "Missing\n",
      "Missing\n",
      "Missing\n",
      "Missing\n",
      "Missing\n",
      "Missing\n",
      "Missing\n",
      "Missing\n",
      "Missing\n",
      "Missing\n",
      "Missing\n",
      "Missing\n",
      "Missing\n",
      "Missing\n",
      "Missing\n",
      "Missing\n",
      "Missing\n",
      "Missing\n",
      "Missing\n",
      "Missing\n",
      "Missing\n",
      "Missing\n",
      "Missing\n",
      "Missing\n",
      "Missing\n"
     ]
    }
   ],
   "source": [
    "beginprocess()"
   ]
  },
  {
   "cell_type": "code",
   "execution_count": null,
   "metadata": {},
   "outputs": [],
   "source": []
  }
 ],
 "metadata": {
  "kernelspec": {
   "display_name": "Python 3",
   "language": "python",
   "name": "python3"
  },
  "language_info": {
   "codemirror_mode": {
    "name": "ipython",
    "version": 3
   },
   "file_extension": ".py",
   "mimetype": "text/x-python",
   "name": "python",
   "nbconvert_exporter": "python",
   "pygments_lexer": "ipython3",
   "version": "3.6.1"
  }
 },
 "nbformat": 4,
 "nbformat_minor": 2
}
